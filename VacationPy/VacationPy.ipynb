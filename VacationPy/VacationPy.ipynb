{
 "cells": [
  {
   "cell_type": "markdown",
   "metadata": {},
   "source": [
    "# VacationPy\n",
    "----\n",
    "\n",
    "#### Note\n",
    "* Keep an eye on your API usage. Use https://developers.google.com/maps/reporting/gmp-reporting as reference for how to monitor your usage and billing.\n",
    "\n",
    "* Instructions have been included for each segment. You do not have to follow them exactly, but they are included to help you think through the steps."
   ]
  },
  {
   "cell_type": "code",
   "execution_count": 1,
   "metadata": {},
   "outputs": [],
   "source": [
    "# Dependencies and Setup\n",
    "import matplotlib.pyplot as plt\n",
    "import pandas as pd\n",
    "import numpy as np\n",
    "import requests\n",
    "import gmaps\n",
    "import os\n",
    "\n",
    "# Import API key\n",
    "from api_keys import g_key"
   ]
  },
  {
   "cell_type": "markdown",
   "metadata": {},
   "source": [
    "### Store Part I results into DataFrame\n",
    "* Load the csv exported in Part I to a DataFrame"
   ]
  },
  {
   "cell_type": "code",
   "execution_count": 2,
   "metadata": {},
   "outputs": [
    {
     "output_type": "execute_result",
     "data": {
      "text/plain": "     City ID         City Country    Lat     Lng   Temp  Humidity  Clouds  \\\n0    2206939        Bluff      NZ -46.60  168.33  57.65        60      35   \n1    5122534    Jamestown      US  42.10  -79.24  65.52        63       1   \n2    5364271       Laguna      US  38.42 -121.42  93.24        27       1   \n3    5983720      Iqaluit      CA  63.75  -68.51  44.29        81      20   \n4    2629833      Husavik      IS  66.04  -17.34  53.60        76      90   \n..       ...          ...     ...    ...     ...    ...       ...     ...   \n556  2126785  Belaya Gora      RU  68.53  146.42  51.26        54      35   \n557   727987      Preslav      BG  43.17   26.82  64.00        90       0   \n558  3702577    Portobelo      PA   9.55  -79.65  81.95        78      98   \n559  4176380       Venice      US  27.10  -82.45  77.00        94      40   \n560  2450173    Taoudenni      ML  22.68   -3.98  93.56        39      10   \n\n     Wind Speed  \n0         25.19  \n1          4.70  \n2         11.63  \n3          5.82  \n4          9.17  \n..          ...  \n556       12.28  \n557        1.79  \n558        7.00  \n559        9.17  \n560       12.41  \n\n[561 rows x 9 columns]",
      "text/html": "<div>\n<style scoped>\n    .dataframe tbody tr th:only-of-type {\n        vertical-align: middle;\n    }\n\n    .dataframe tbody tr th {\n        vertical-align: top;\n    }\n\n    .dataframe thead th {\n        text-align: right;\n    }\n</style>\n<table border=\"1\" class=\"dataframe\">\n  <thead>\n    <tr style=\"text-align: right;\">\n      <th></th>\n      <th>City ID</th>\n      <th>City</th>\n      <th>Country</th>\n      <th>Lat</th>\n      <th>Lng</th>\n      <th>Temp</th>\n      <th>Humidity</th>\n      <th>Clouds</th>\n      <th>Wind Speed</th>\n    </tr>\n  </thead>\n  <tbody>\n    <tr>\n      <th>0</th>\n      <td>2206939</td>\n      <td>Bluff</td>\n      <td>NZ</td>\n      <td>-46.60</td>\n      <td>168.33</td>\n      <td>57.65</td>\n      <td>60</td>\n      <td>35</td>\n      <td>25.19</td>\n    </tr>\n    <tr>\n      <th>1</th>\n      <td>5122534</td>\n      <td>Jamestown</td>\n      <td>US</td>\n      <td>42.10</td>\n      <td>-79.24</td>\n      <td>65.52</td>\n      <td>63</td>\n      <td>1</td>\n      <td>4.70</td>\n    </tr>\n    <tr>\n      <th>2</th>\n      <td>5364271</td>\n      <td>Laguna</td>\n      <td>US</td>\n      <td>38.42</td>\n      <td>-121.42</td>\n      <td>93.24</td>\n      <td>27</td>\n      <td>1</td>\n      <td>11.63</td>\n    </tr>\n    <tr>\n      <th>3</th>\n      <td>5983720</td>\n      <td>Iqaluit</td>\n      <td>CA</td>\n      <td>63.75</td>\n      <td>-68.51</td>\n      <td>44.29</td>\n      <td>81</td>\n      <td>20</td>\n      <td>5.82</td>\n    </tr>\n    <tr>\n      <th>4</th>\n      <td>2629833</td>\n      <td>Husavik</td>\n      <td>IS</td>\n      <td>66.04</td>\n      <td>-17.34</td>\n      <td>53.60</td>\n      <td>76</td>\n      <td>90</td>\n      <td>9.17</td>\n    </tr>\n    <tr>\n      <th>...</th>\n      <td>...</td>\n      <td>...</td>\n      <td>...</td>\n      <td>...</td>\n      <td>...</td>\n      <td>...</td>\n      <td>...</td>\n      <td>...</td>\n      <td>...</td>\n    </tr>\n    <tr>\n      <th>556</th>\n      <td>2126785</td>\n      <td>Belaya Gora</td>\n      <td>RU</td>\n      <td>68.53</td>\n      <td>146.42</td>\n      <td>51.26</td>\n      <td>54</td>\n      <td>35</td>\n      <td>12.28</td>\n    </tr>\n    <tr>\n      <th>557</th>\n      <td>727987</td>\n      <td>Preslav</td>\n      <td>BG</td>\n      <td>43.17</td>\n      <td>26.82</td>\n      <td>64.00</td>\n      <td>90</td>\n      <td>0</td>\n      <td>1.79</td>\n    </tr>\n    <tr>\n      <th>558</th>\n      <td>3702577</td>\n      <td>Portobelo</td>\n      <td>PA</td>\n      <td>9.55</td>\n      <td>-79.65</td>\n      <td>81.95</td>\n      <td>78</td>\n      <td>98</td>\n      <td>7.00</td>\n    </tr>\n    <tr>\n      <th>559</th>\n      <td>4176380</td>\n      <td>Venice</td>\n      <td>US</td>\n      <td>27.10</td>\n      <td>-82.45</td>\n      <td>77.00</td>\n      <td>94</td>\n      <td>40</td>\n      <td>9.17</td>\n    </tr>\n    <tr>\n      <th>560</th>\n      <td>2450173</td>\n      <td>Taoudenni</td>\n      <td>ML</td>\n      <td>22.68</td>\n      <td>-3.98</td>\n      <td>93.56</td>\n      <td>39</td>\n      <td>10</td>\n      <td>12.41</td>\n    </tr>\n  </tbody>\n</table>\n<p>561 rows × 9 columns</p>\n</div>"
     },
     "metadata": {},
     "execution_count": 2
    }
   ],
   "source": [
    "csv_file = os.path.join('..', 'output_data', 'cities.csv')\n",
    "\n",
    "city_df = pd.read_csv(csv_file)\n",
    "city_df"
   ]
  },
  {
   "cell_type": "markdown",
   "metadata": {},
   "source": [
    "### Humidity Heatmap\n",
    "* Configure gmaps.\n",
    "* Use the Lat and Lng as locations and Humidity as the weight.\n",
    "* Add Heatmap layer to map."
   ]
  },
  {
   "cell_type": "code",
   "execution_count": 3,
   "metadata": {},
   "outputs": [],
   "source": [
    "gmaps.configure(api_key=g_key)"
   ]
  },
  {
   "cell_type": "code",
   "execution_count": 4,
   "metadata": {},
   "outputs": [
    {
     "output_type": "display_data",
     "data": {
      "text/plain": "Figure(layout=FigureLayout(height='420px'))",
      "application/vnd.jupyter.widget-view+json": {
       "version_major": 2,
       "version_minor": 0,
       "model_id": "96177d1fcb7743988ae29ee2f376bb14"
      }
     },
     "metadata": {}
    }
   ],
   "source": [
    "locations = city_df[[\"Lat\", \"Lng\"]]\n",
    "humidity = city_df[\"Humidity\"]\n",
    "\n",
    "fig = gmaps.figure()\n",
    "heat_layer = gmaps.heatmap_layer(locations, weights=humidity, dissipating=False)\n",
    "heat_layer.max_intensity = 100\n",
    "heat_layer.point_radius = 5\n",
    "\n",
    "\n",
    "fig.add_layer(heat_layer)\n",
    "fig"
   ]
  },
  {
   "cell_type": "markdown",
   "metadata": {},
   "source": [
    "### Create new DataFrame fitting weather criteria\n",
    "* Narrow down the cities to fit weather conditions.\n",
    "* Drop any rows will null values."
   ]
  },
  {
   "cell_type": "code",
   "execution_count": 5,
   "metadata": {},
   "outputs": [
    {
     "output_type": "execute_result",
     "data": {
      "text/plain": "     City ID                    City Country    Lat     Lng   Temp  Humidity  \\\n37   3516522          Soto la Marina      MX  23.77  -98.22  89.01        68   \n60   2219235                   Ubari      LY  26.59   12.78  85.87        19   \n63     88533                 Awjilah      LY  29.11   21.29  80.64        33   \n88    164947               Salamiyah      SY  35.01   37.05  77.40        27   \n175  6949678            Taitung City      TW  22.76  121.14  84.20        70   \n187  2063039              Port Keats      AU -14.25  129.55  81.90        51   \n204   108648                Qurayyat      SA  31.33   37.34  86.00        19   \n236  3456248             Nortelândia      BR -14.45  -56.80  81.99        21   \n340   298033              Viranşehir      TR  37.24   39.76  87.71        12   \n349  6620339                Karratha      AU -20.74  116.85  80.33        28   \n377   347634                   Ţahţā      EG  26.77   31.50  84.29        20   \n401  3460513                 Iturama      BR -19.73  -50.20  81.01        25   \n477   310858  Kahramanmaraş Province      TR  38.00   37.00  75.20        47   \n511  1808770                    Hebi      CN  35.90  114.19  84.00        61   \n517   261814              Koutsouras      GR  35.03   25.95  79.00        52   \n527  3453586                Piranhas      BR -16.43  -51.82  79.25        24   \n\n     Clouds  Wind Speed  \n37        6       10.00  \n60        0        8.12  \n63        0        7.54  \n88        0        5.66  \n175       7        3.36  \n187       0        9.57  \n204       0        4.70  \n236       0        3.02  \n340       0        9.82  \n349       3        6.89  \n377       0        9.17  \n401       0        5.97  \n477       0        5.82  \n511       0        0.78  \n517       0        7.00  \n527       0        1.23  ",
      "text/html": "<div>\n<style scoped>\n    .dataframe tbody tr th:only-of-type {\n        vertical-align: middle;\n    }\n\n    .dataframe tbody tr th {\n        vertical-align: top;\n    }\n\n    .dataframe thead th {\n        text-align: right;\n    }\n</style>\n<table border=\"1\" class=\"dataframe\">\n  <thead>\n    <tr style=\"text-align: right;\">\n      <th></th>\n      <th>City ID</th>\n      <th>City</th>\n      <th>Country</th>\n      <th>Lat</th>\n      <th>Lng</th>\n      <th>Temp</th>\n      <th>Humidity</th>\n      <th>Clouds</th>\n      <th>Wind Speed</th>\n    </tr>\n  </thead>\n  <tbody>\n    <tr>\n      <th>37</th>\n      <td>3516522</td>\n      <td>Soto la Marina</td>\n      <td>MX</td>\n      <td>23.77</td>\n      <td>-98.22</td>\n      <td>89.01</td>\n      <td>68</td>\n      <td>6</td>\n      <td>10.00</td>\n    </tr>\n    <tr>\n      <th>60</th>\n      <td>2219235</td>\n      <td>Ubari</td>\n      <td>LY</td>\n      <td>26.59</td>\n      <td>12.78</td>\n      <td>85.87</td>\n      <td>19</td>\n      <td>0</td>\n      <td>8.12</td>\n    </tr>\n    <tr>\n      <th>63</th>\n      <td>88533</td>\n      <td>Awjilah</td>\n      <td>LY</td>\n      <td>29.11</td>\n      <td>21.29</td>\n      <td>80.64</td>\n      <td>33</td>\n      <td>0</td>\n      <td>7.54</td>\n    </tr>\n    <tr>\n      <th>88</th>\n      <td>164947</td>\n      <td>Salamiyah</td>\n      <td>SY</td>\n      <td>35.01</td>\n      <td>37.05</td>\n      <td>77.40</td>\n      <td>27</td>\n      <td>0</td>\n      <td>5.66</td>\n    </tr>\n    <tr>\n      <th>175</th>\n      <td>6949678</td>\n      <td>Taitung City</td>\n      <td>TW</td>\n      <td>22.76</td>\n      <td>121.14</td>\n      <td>84.20</td>\n      <td>70</td>\n      <td>7</td>\n      <td>3.36</td>\n    </tr>\n    <tr>\n      <th>187</th>\n      <td>2063039</td>\n      <td>Port Keats</td>\n      <td>AU</td>\n      <td>-14.25</td>\n      <td>129.55</td>\n      <td>81.90</td>\n      <td>51</td>\n      <td>0</td>\n      <td>9.57</td>\n    </tr>\n    <tr>\n      <th>204</th>\n      <td>108648</td>\n      <td>Qurayyat</td>\n      <td>SA</td>\n      <td>31.33</td>\n      <td>37.34</td>\n      <td>86.00</td>\n      <td>19</td>\n      <td>0</td>\n      <td>4.70</td>\n    </tr>\n    <tr>\n      <th>236</th>\n      <td>3456248</td>\n      <td>Nortelândia</td>\n      <td>BR</td>\n      <td>-14.45</td>\n      <td>-56.80</td>\n      <td>81.99</td>\n      <td>21</td>\n      <td>0</td>\n      <td>3.02</td>\n    </tr>\n    <tr>\n      <th>340</th>\n      <td>298033</td>\n      <td>Viranşehir</td>\n      <td>TR</td>\n      <td>37.24</td>\n      <td>39.76</td>\n      <td>87.71</td>\n      <td>12</td>\n      <td>0</td>\n      <td>9.82</td>\n    </tr>\n    <tr>\n      <th>349</th>\n      <td>6620339</td>\n      <td>Karratha</td>\n      <td>AU</td>\n      <td>-20.74</td>\n      <td>116.85</td>\n      <td>80.33</td>\n      <td>28</td>\n      <td>3</td>\n      <td>6.89</td>\n    </tr>\n    <tr>\n      <th>377</th>\n      <td>347634</td>\n      <td>Ţahţā</td>\n      <td>EG</td>\n      <td>26.77</td>\n      <td>31.50</td>\n      <td>84.29</td>\n      <td>20</td>\n      <td>0</td>\n      <td>9.17</td>\n    </tr>\n    <tr>\n      <th>401</th>\n      <td>3460513</td>\n      <td>Iturama</td>\n      <td>BR</td>\n      <td>-19.73</td>\n      <td>-50.20</td>\n      <td>81.01</td>\n      <td>25</td>\n      <td>0</td>\n      <td>5.97</td>\n    </tr>\n    <tr>\n      <th>477</th>\n      <td>310858</td>\n      <td>Kahramanmaraş Province</td>\n      <td>TR</td>\n      <td>38.00</td>\n      <td>37.00</td>\n      <td>75.20</td>\n      <td>47</td>\n      <td>0</td>\n      <td>5.82</td>\n    </tr>\n    <tr>\n      <th>511</th>\n      <td>1808770</td>\n      <td>Hebi</td>\n      <td>CN</td>\n      <td>35.90</td>\n      <td>114.19</td>\n      <td>84.00</td>\n      <td>61</td>\n      <td>0</td>\n      <td>0.78</td>\n    </tr>\n    <tr>\n      <th>517</th>\n      <td>261814</td>\n      <td>Koutsouras</td>\n      <td>GR</td>\n      <td>35.03</td>\n      <td>25.95</td>\n      <td>79.00</td>\n      <td>52</td>\n      <td>0</td>\n      <td>7.00</td>\n    </tr>\n    <tr>\n      <th>527</th>\n      <td>3453586</td>\n      <td>Piranhas</td>\n      <td>BR</td>\n      <td>-16.43</td>\n      <td>-51.82</td>\n      <td>79.25</td>\n      <td>24</td>\n      <td>0</td>\n      <td>1.23</td>\n    </tr>\n  </tbody>\n</table>\n</div>"
     },
     "metadata": {},
     "execution_count": 5
    }
   ],
   "source": [
    "ideal_df = city_df[(city_df['Temp'] >= 75) & (city_df['Temp'] <= 90)]\n",
    "ideal_df = ideal_df[ideal_df['Wind Speed'] <= 10]\n",
    "ideal_df = ideal_df[ideal_df['Clouds'] <= 10]\n",
    "ideal_df = ideal_df[ideal_df['Humidity'] <= 70]\n",
    "hotel_df = ideal_df\n",
    "hotel_df"
   ]
  },
  {
   "cell_type": "markdown",
   "metadata": {},
   "source": [
    "### Hotel Map\n",
    "* Store into variable named `hotel_df`.\n",
    "* Add a \"Hotel Name\" column to the DataFrame.\n",
    "* Set parameters to search for hotels with 5000 meters.\n",
    "* Hit the Google Places API for each city's coordinates.\n",
    "* Store the first Hotel result into the DataFrame.\n",
    "* Plot markers on top of the heatmap."
   ]
  },
  {
   "cell_type": "code",
   "execution_count": 6,
   "metadata": {},
   "outputs": [
    {
     "output_type": "execute_result",
     "data": {
      "text/plain": "     City ID                    City Country    Lat     Lng   Temp  Humidity  \\\n37   3516522          Soto la Marina      MX  23.77  -98.22  89.01        68   \n60   2219235                   Ubari      LY  26.59   12.78  85.87        19   \n63     88533                 Awjilah      LY  29.11   21.29  80.64        33   \n88    164947               Salamiyah      SY  35.01   37.05  77.40        27   \n175  6949678            Taitung City      TW  22.76  121.14  84.20        70   \n187  2063039              Port Keats      AU -14.25  129.55  81.90        51   \n204   108648                Qurayyat      SA  31.33   37.34  86.00        19   \n236  3456248             Nortelândia      BR -14.45  -56.80  81.99        21   \n340   298033              Viranşehir      TR  37.24   39.76  87.71        12   \n349  6620339                Karratha      AU -20.74  116.85  80.33        28   \n377   347634                   Ţahţā      EG  26.77   31.50  84.29        20   \n401  3460513                 Iturama      BR -19.73  -50.20  81.01        25   \n477   310858  Kahramanmaraş Province      TR  38.00   37.00  75.20        47   \n511  1808770                    Hebi      CN  35.90  114.19  84.00        61   \n517   261814              Koutsouras      GR  35.03   25.95  79.00        52   \n527  3453586                Piranhas      BR -16.43  -51.82  79.25        24   \n\n     Clouds  Wind Speed Hotel Name  \n37        6       10.00             \n60        0        8.12             \n63        0        7.54             \n88        0        5.66             \n175       7        3.36             \n187       0        9.57             \n204       0        4.70             \n236       0        3.02             \n340       0        9.82             \n349       3        6.89             \n377       0        9.17             \n401       0        5.97             \n477       0        5.82             \n511       0        0.78             \n517       0        7.00             \n527       0        1.23             ",
      "text/html": "<div>\n<style scoped>\n    .dataframe tbody tr th:only-of-type {\n        vertical-align: middle;\n    }\n\n    .dataframe tbody tr th {\n        vertical-align: top;\n    }\n\n    .dataframe thead th {\n        text-align: right;\n    }\n</style>\n<table border=\"1\" class=\"dataframe\">\n  <thead>\n    <tr style=\"text-align: right;\">\n      <th></th>\n      <th>City ID</th>\n      <th>City</th>\n      <th>Country</th>\n      <th>Lat</th>\n      <th>Lng</th>\n      <th>Temp</th>\n      <th>Humidity</th>\n      <th>Clouds</th>\n      <th>Wind Speed</th>\n      <th>Hotel Name</th>\n    </tr>\n  </thead>\n  <tbody>\n    <tr>\n      <th>37</th>\n      <td>3516522</td>\n      <td>Soto la Marina</td>\n      <td>MX</td>\n      <td>23.77</td>\n      <td>-98.22</td>\n      <td>89.01</td>\n      <td>68</td>\n      <td>6</td>\n      <td>10.00</td>\n      <td></td>\n    </tr>\n    <tr>\n      <th>60</th>\n      <td>2219235</td>\n      <td>Ubari</td>\n      <td>LY</td>\n      <td>26.59</td>\n      <td>12.78</td>\n      <td>85.87</td>\n      <td>19</td>\n      <td>0</td>\n      <td>8.12</td>\n      <td></td>\n    </tr>\n    <tr>\n      <th>63</th>\n      <td>88533</td>\n      <td>Awjilah</td>\n      <td>LY</td>\n      <td>29.11</td>\n      <td>21.29</td>\n      <td>80.64</td>\n      <td>33</td>\n      <td>0</td>\n      <td>7.54</td>\n      <td></td>\n    </tr>\n    <tr>\n      <th>88</th>\n      <td>164947</td>\n      <td>Salamiyah</td>\n      <td>SY</td>\n      <td>35.01</td>\n      <td>37.05</td>\n      <td>77.40</td>\n      <td>27</td>\n      <td>0</td>\n      <td>5.66</td>\n      <td></td>\n    </tr>\n    <tr>\n      <th>175</th>\n      <td>6949678</td>\n      <td>Taitung City</td>\n      <td>TW</td>\n      <td>22.76</td>\n      <td>121.14</td>\n      <td>84.20</td>\n      <td>70</td>\n      <td>7</td>\n      <td>3.36</td>\n      <td></td>\n    </tr>\n    <tr>\n      <th>187</th>\n      <td>2063039</td>\n      <td>Port Keats</td>\n      <td>AU</td>\n      <td>-14.25</td>\n      <td>129.55</td>\n      <td>81.90</td>\n      <td>51</td>\n      <td>0</td>\n      <td>9.57</td>\n      <td></td>\n    </tr>\n    <tr>\n      <th>204</th>\n      <td>108648</td>\n      <td>Qurayyat</td>\n      <td>SA</td>\n      <td>31.33</td>\n      <td>37.34</td>\n      <td>86.00</td>\n      <td>19</td>\n      <td>0</td>\n      <td>4.70</td>\n      <td></td>\n    </tr>\n    <tr>\n      <th>236</th>\n      <td>3456248</td>\n      <td>Nortelândia</td>\n      <td>BR</td>\n      <td>-14.45</td>\n      <td>-56.80</td>\n      <td>81.99</td>\n      <td>21</td>\n      <td>0</td>\n      <td>3.02</td>\n      <td></td>\n    </tr>\n    <tr>\n      <th>340</th>\n      <td>298033</td>\n      <td>Viranşehir</td>\n      <td>TR</td>\n      <td>37.24</td>\n      <td>39.76</td>\n      <td>87.71</td>\n      <td>12</td>\n      <td>0</td>\n      <td>9.82</td>\n      <td></td>\n    </tr>\n    <tr>\n      <th>349</th>\n      <td>6620339</td>\n      <td>Karratha</td>\n      <td>AU</td>\n      <td>-20.74</td>\n      <td>116.85</td>\n      <td>80.33</td>\n      <td>28</td>\n      <td>3</td>\n      <td>6.89</td>\n      <td></td>\n    </tr>\n    <tr>\n      <th>377</th>\n      <td>347634</td>\n      <td>Ţahţā</td>\n      <td>EG</td>\n      <td>26.77</td>\n      <td>31.50</td>\n      <td>84.29</td>\n      <td>20</td>\n      <td>0</td>\n      <td>9.17</td>\n      <td></td>\n    </tr>\n    <tr>\n      <th>401</th>\n      <td>3460513</td>\n      <td>Iturama</td>\n      <td>BR</td>\n      <td>-19.73</td>\n      <td>-50.20</td>\n      <td>81.01</td>\n      <td>25</td>\n      <td>0</td>\n      <td>5.97</td>\n      <td></td>\n    </tr>\n    <tr>\n      <th>477</th>\n      <td>310858</td>\n      <td>Kahramanmaraş Province</td>\n      <td>TR</td>\n      <td>38.00</td>\n      <td>37.00</td>\n      <td>75.20</td>\n      <td>47</td>\n      <td>0</td>\n      <td>5.82</td>\n      <td></td>\n    </tr>\n    <tr>\n      <th>511</th>\n      <td>1808770</td>\n      <td>Hebi</td>\n      <td>CN</td>\n      <td>35.90</td>\n      <td>114.19</td>\n      <td>84.00</td>\n      <td>61</td>\n      <td>0</td>\n      <td>0.78</td>\n      <td></td>\n    </tr>\n    <tr>\n      <th>517</th>\n      <td>261814</td>\n      <td>Koutsouras</td>\n      <td>GR</td>\n      <td>35.03</td>\n      <td>25.95</td>\n      <td>79.00</td>\n      <td>52</td>\n      <td>0</td>\n      <td>7.00</td>\n      <td></td>\n    </tr>\n    <tr>\n      <th>527</th>\n      <td>3453586</td>\n      <td>Piranhas</td>\n      <td>BR</td>\n      <td>-16.43</td>\n      <td>-51.82</td>\n      <td>79.25</td>\n      <td>24</td>\n      <td>0</td>\n      <td>1.23</td>\n      <td></td>\n    </tr>\n  </tbody>\n</table>\n</div>"
     },
     "metadata": {},
     "execution_count": 6
    }
   ],
   "source": [
    "hotel_df['Hotel Name'] = \"\"\n",
    "hotel_df"
   ]
  },
  {
   "cell_type": "code",
   "execution_count": 7,
   "metadata": {},
   "outputs": [
    {
     "output_type": "execute_result",
     "data": {
      "text/plain": "     City ID                    City Country    Lat     Lng   Temp  Humidity  \\\n37   3516522          Soto la Marina      MX  23.77  -98.22  89.01        68   \n60   2219235                   Ubari      LY  26.59   12.78  85.87        19   \n63     88533                 Awjilah      LY  29.11   21.29  80.64        33   \n88    164947               Salamiyah      SY  35.01   37.05  77.40        27   \n175  6949678            Taitung City      TW  22.76  121.14  84.20        70   \n187  2063039              Port Keats      AU -14.25  129.55  81.90        51   \n204   108648                Qurayyat      SA  31.33   37.34  86.00        19   \n236  3456248             Nortelândia      BR -14.45  -56.80  81.99        21   \n340   298033              Viranşehir      TR  37.24   39.76  87.71        12   \n349  6620339                Karratha      AU -20.74  116.85  80.33        28   \n377   347634                   Ţahţā      EG  26.77   31.50  84.29        20   \n401  3460513                 Iturama      BR -19.73  -50.20  81.01        25   \n477   310858  Kahramanmaraş Province      TR  38.00   37.00  75.20        47   \n511  1808770                    Hebi      CN  35.90  114.19  84.00        61   \n517   261814              Koutsouras      GR  35.03   25.95  79.00        52   \n527  3453586                Piranhas      BR -16.43  -51.82  79.25        24   \n\n     Clouds  Wind Speed                              Hotel Name  \n37        6       10.00                 Hotel Los Generales INN  \n60        0        8.12                             فندق أوباري  \n63        0        7.54                                     NaN  \n88        0        5.66  Resort Safari Souria منتجع سفاري سورية  \n175       7        3.36                  Sheraton Taitung Hotel  \n187       0        9.57          TDC Village (Hundred Man Camp)  \n204       0        4.70    The life of the Knights Hotel Suites  \n236       0        3.02                           Hotel Karysmã  \n340       0        9.82                             Tella Hotel  \n349       3        6.89   Best Western Plus The Ranges Karratha  \n377       0        9.17                          El Salam Hotel  \n401       0        5.97       Avenida Park Hotel - Iturama - MG  \n477       0        5.82                                     NaN  \n511       0        0.78                                     NaN  \n517       0        7.00                     Hotel Vilea Village  \n527       0        1.23                   Tropical Palace Hotel  ",
      "text/html": "<div>\n<style scoped>\n    .dataframe tbody tr th:only-of-type {\n        vertical-align: middle;\n    }\n\n    .dataframe tbody tr th {\n        vertical-align: top;\n    }\n\n    .dataframe thead th {\n        text-align: right;\n    }\n</style>\n<table border=\"1\" class=\"dataframe\">\n  <thead>\n    <tr style=\"text-align: right;\">\n      <th></th>\n      <th>City ID</th>\n      <th>City</th>\n      <th>Country</th>\n      <th>Lat</th>\n      <th>Lng</th>\n      <th>Temp</th>\n      <th>Humidity</th>\n      <th>Clouds</th>\n      <th>Wind Speed</th>\n      <th>Hotel Name</th>\n    </tr>\n  </thead>\n  <tbody>\n    <tr>\n      <th>37</th>\n      <td>3516522</td>\n      <td>Soto la Marina</td>\n      <td>MX</td>\n      <td>23.77</td>\n      <td>-98.22</td>\n      <td>89.01</td>\n      <td>68</td>\n      <td>6</td>\n      <td>10.00</td>\n      <td>Hotel Los Generales INN</td>\n    </tr>\n    <tr>\n      <th>60</th>\n      <td>2219235</td>\n      <td>Ubari</td>\n      <td>LY</td>\n      <td>26.59</td>\n      <td>12.78</td>\n      <td>85.87</td>\n      <td>19</td>\n      <td>0</td>\n      <td>8.12</td>\n      <td>فندق أوباري</td>\n    </tr>\n    <tr>\n      <th>63</th>\n      <td>88533</td>\n      <td>Awjilah</td>\n      <td>LY</td>\n      <td>29.11</td>\n      <td>21.29</td>\n      <td>80.64</td>\n      <td>33</td>\n      <td>0</td>\n      <td>7.54</td>\n      <td>NaN</td>\n    </tr>\n    <tr>\n      <th>88</th>\n      <td>164947</td>\n      <td>Salamiyah</td>\n      <td>SY</td>\n      <td>35.01</td>\n      <td>37.05</td>\n      <td>77.40</td>\n      <td>27</td>\n      <td>0</td>\n      <td>5.66</td>\n      <td>Resort Safari Souria منتجع سفاري سورية</td>\n    </tr>\n    <tr>\n      <th>175</th>\n      <td>6949678</td>\n      <td>Taitung City</td>\n      <td>TW</td>\n      <td>22.76</td>\n      <td>121.14</td>\n      <td>84.20</td>\n      <td>70</td>\n      <td>7</td>\n      <td>3.36</td>\n      <td>Sheraton Taitung Hotel</td>\n    </tr>\n    <tr>\n      <th>187</th>\n      <td>2063039</td>\n      <td>Port Keats</td>\n      <td>AU</td>\n      <td>-14.25</td>\n      <td>129.55</td>\n      <td>81.90</td>\n      <td>51</td>\n      <td>0</td>\n      <td>9.57</td>\n      <td>TDC Village (Hundred Man Camp)</td>\n    </tr>\n    <tr>\n      <th>204</th>\n      <td>108648</td>\n      <td>Qurayyat</td>\n      <td>SA</td>\n      <td>31.33</td>\n      <td>37.34</td>\n      <td>86.00</td>\n      <td>19</td>\n      <td>0</td>\n      <td>4.70</td>\n      <td>The life of the Knights Hotel Suites</td>\n    </tr>\n    <tr>\n      <th>236</th>\n      <td>3456248</td>\n      <td>Nortelândia</td>\n      <td>BR</td>\n      <td>-14.45</td>\n      <td>-56.80</td>\n      <td>81.99</td>\n      <td>21</td>\n      <td>0</td>\n      <td>3.02</td>\n      <td>Hotel Karysmã</td>\n    </tr>\n    <tr>\n      <th>340</th>\n      <td>298033</td>\n      <td>Viranşehir</td>\n      <td>TR</td>\n      <td>37.24</td>\n      <td>39.76</td>\n      <td>87.71</td>\n      <td>12</td>\n      <td>0</td>\n      <td>9.82</td>\n      <td>Tella Hotel</td>\n    </tr>\n    <tr>\n      <th>349</th>\n      <td>6620339</td>\n      <td>Karratha</td>\n      <td>AU</td>\n      <td>-20.74</td>\n      <td>116.85</td>\n      <td>80.33</td>\n      <td>28</td>\n      <td>3</td>\n      <td>6.89</td>\n      <td>Best Western Plus The Ranges Karratha</td>\n    </tr>\n    <tr>\n      <th>377</th>\n      <td>347634</td>\n      <td>Ţahţā</td>\n      <td>EG</td>\n      <td>26.77</td>\n      <td>31.50</td>\n      <td>84.29</td>\n      <td>20</td>\n      <td>0</td>\n      <td>9.17</td>\n      <td>El Salam Hotel</td>\n    </tr>\n    <tr>\n      <th>401</th>\n      <td>3460513</td>\n      <td>Iturama</td>\n      <td>BR</td>\n      <td>-19.73</td>\n      <td>-50.20</td>\n      <td>81.01</td>\n      <td>25</td>\n      <td>0</td>\n      <td>5.97</td>\n      <td>Avenida Park Hotel - Iturama - MG</td>\n    </tr>\n    <tr>\n      <th>477</th>\n      <td>310858</td>\n      <td>Kahramanmaraş Province</td>\n      <td>TR</td>\n      <td>38.00</td>\n      <td>37.00</td>\n      <td>75.20</td>\n      <td>47</td>\n      <td>0</td>\n      <td>5.82</td>\n      <td>NaN</td>\n    </tr>\n    <tr>\n      <th>511</th>\n      <td>1808770</td>\n      <td>Hebi</td>\n      <td>CN</td>\n      <td>35.90</td>\n      <td>114.19</td>\n      <td>84.00</td>\n      <td>61</td>\n      <td>0</td>\n      <td>0.78</td>\n      <td>NaN</td>\n    </tr>\n    <tr>\n      <th>517</th>\n      <td>261814</td>\n      <td>Koutsouras</td>\n      <td>GR</td>\n      <td>35.03</td>\n      <td>25.95</td>\n      <td>79.00</td>\n      <td>52</td>\n      <td>0</td>\n      <td>7.00</td>\n      <td>Hotel Vilea Village</td>\n    </tr>\n    <tr>\n      <th>527</th>\n      <td>3453586</td>\n      <td>Piranhas</td>\n      <td>BR</td>\n      <td>-16.43</td>\n      <td>-51.82</td>\n      <td>79.25</td>\n      <td>24</td>\n      <td>0</td>\n      <td>1.23</td>\n      <td>Tropical Palace Hotel</td>\n    </tr>\n  </tbody>\n</table>\n</div>"
     },
     "metadata": {},
     "execution_count": 7
    }
   ],
   "source": [
    "for index, row in hotel_df.iterrows():\n",
    "    try:\n",
    "        \n",
    "        base_url = \"https://maps.googleapis.com/maps/api/place/nearbysearch/json\"\n",
    "\n",
    "        params = {\n",
    "        \"keyword\": \"hotel\",\n",
    "        \"radius\": 5000,\n",
    "        \"key\": g_key,\n",
    "        }\n",
    "\n",
    "\n",
    "        lat = row['Lat']\n",
    "        lng = row['Lng']\n",
    "\n",
    "        params['location'] = f\"{lat}, {lng}\"\n",
    "\n",
    "        hotel_data = requests.get(base_url, params=params).json()\n",
    "        \n",
    "        hotel_df.loc[index, \"Hotel Name\"] = hotel_data[\"results\"][0][\"name\"]\n",
    "        \n",
    "    except IndexError:\n",
    "        \n",
    "        hotel_df.loc[index, \"Hotel Name\"] = \"NaN\"\n",
    "        \n",
    "hotel_df"
   ]
  },
  {
   "cell_type": "code",
   "execution_count": 8,
   "metadata": {},
   "outputs": [],
   "source": [
    "# NOTE: Do not change any of the code in this cell\n",
    "\n",
    "# Using the template add the hotel marks to the heatmap\n",
    "info_box_template = \"\"\"\n",
    "<dl>\n",
    "<dt>Name</dt><dd>{Hotel Name}</dd>\n",
    "<dt>City</dt><dd>{City}</dd>\n",
    "<dt>Country</dt><dd>{Country}</dd>\n",
    "</dl>\n",
    "\"\"\"\n",
    "# Store the DataFrame Row\n",
    "# NOTE: be sure to update with your DataFrame name\n",
    "hotel_info = [info_box_template.format(**row) for index, row in hotel_df.iterrows()]\n",
    "locations = hotel_df[[\"Lat\", \"Lng\"]]"
   ]
  },
  {
   "cell_type": "code",
   "execution_count": 9,
   "metadata": {},
   "outputs": [
    {
     "output_type": "display_data",
     "data": {
      "text/plain": "Figure(layout=FigureLayout(height='420px'))",
      "application/vnd.jupyter.widget-view+json": {
       "version_major": 2,
       "version_minor": 0,
       "model_id": "96177d1fcb7743988ae29ee2f376bb14"
      }
     },
     "metadata": {}
    }
   ],
   "source": [
    "# Add marker layer ontop of heat map\n",
    "markers = gmaps.marker_layer(locations, info_box_content=hotel_info)\n",
    "fig.add_layer(markers)\n",
    "fig\n",
    "\n",
    "# Display figure\n"
   ]
  },
  {
   "cell_type": "code",
   "execution_count": null,
   "metadata": {},
   "outputs": [],
   "source": []
  }
 ],
 "metadata": {
  "kernelspec": {
   "display_name": "Python 3.6.10 64-bit ('PythonData': conda)",
   "language": "python",
   "name": "python361064bitpythondataconda42b1a4b937d74ffb97a84dbea7d24f9d"
  },
  "language_info": {
   "codemirror_mode": {
    "name": "ipython",
    "version": 3
   },
   "file_extension": ".py",
   "mimetype": "text/x-python",
   "name": "python",
   "nbconvert_exporter": "python",
   "pygments_lexer": "ipython3",
   "version": "3.6.10-final"
  },
  "latex_envs": {
   "LaTeX_envs_menu_present": true,
   "autoclose": false,
   "autocomplete": true,
   "bibliofile": "biblio.bib",
   "cite_by": "apalike",
   "current_citInitial": 1,
   "eqLabelWithNumbers": true,
   "eqNumInitial": 1,
   "hotkeys": {
    "equation": "Ctrl-E",
    "itemize": "Ctrl-I"
   },
   "labels_anchors": false,
   "latex_user_defs": false,
   "report_style_numbering": false,
   "user_envs_cfg": false
  }
 },
 "nbformat": 4,
 "nbformat_minor": 4
}